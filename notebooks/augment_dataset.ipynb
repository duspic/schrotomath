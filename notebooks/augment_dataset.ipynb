{
 "cells": [
  {
   "cell_type": "code",
   "execution_count": 1,
   "metadata": {},
   "outputs": [],
   "source": [
    "# Simple augmentations to fill out the missing parts of needed dataset\n",
    "\n",
    "## Don't forget to manually remove duds after each step!\n",
    "## A couple of minutes of cleaning up the dataset go a long way later on. ##"
   ]
  },
  {
   "cell_type": "code",
   "execution_count": 1,
   "metadata": {},
   "outputs": [],
   "source": [
    "from PIL import Image \n",
    "import cv2\n",
    "import os\n",
    "import numpy as np"
   ]
  },
  {
   "cell_type": "code",
   "execution_count": 4,
   "metadata": {},
   "outputs": [
    {
     "name": "stdout",
     "output_type": "stream",
     "text": [
      "      dataset/test/33\\9972.jpg       \n",
      "Done with 'X'\n"
     ]
    }
   ],
   "source": [
    "\n",
    "\n",
    "#######################################################################\n",
    "####### ROTATE 'X' INTO AS MANY OTHER 'X' SIGNS AS POSSIBLE ###########\n",
    "#######################################################################\n",
    "\n",
    "PATH = \"dataset/train/multi\"\n",
    "\n",
    "images = os.listdir(PATH)\n",
    "\n",
    "# Iterate trough images in a folder\n",
    "for img_name in images:\n",
    "\n",
    "    img_path = os.path.join(PATH,img_name)\n",
    "    print(\"      %s      \"%img_path, end='\\r')\n",
    "    img = Image.open(img_path) \n",
    "\n",
    "    rotate_img = img.rotate(-90, fillcolor = 'white')\n",
    "    rotate_img.save(os.path.join(PATH, \"1_\"+img_name))\n",
    "\n",
    "    rotate_img = img.rotate(90, fillcolor = 'white')\n",
    "    rotate_img.save(os.path.join(PATH, \"2_\"+img_name))\n",
    "\n",
    "    rotate_img = img.rotate(180, fillcolor = 'white')\n",
    "    rotate_img.save(os.path.join(PATH, \"3_\"+img_name))\n",
    "\n",
    "print(\"\\nDone with 'X'\")"
   ]
  },
  {
   "cell_type": "code",
   "execution_count": 6,
   "metadata": {},
   "outputs": [
    {
     "name": "stdout",
     "output_type": "stream",
     "text": [
      "      dataset/train/33\\99957.jpg         \n",
      "Done with '+'\n"
     ]
    }
   ],
   "source": [
    "#######################################################################\n",
    "############ TURN 'X' INTO AS MANY '+' SIGNS AS POSSIBLE ##############\n",
    "#######################################################################\n",
    "\n",
    "PATH = \"dataset/train/multi\"\n",
    "SAVE_PATH = \"dataset/train/plus\"\n",
    "\n",
    "os.makedirs(SAVE_PATH)\n",
    "\n",
    "images = os.listdir(PATH)\n",
    "\n",
    "# Iterate trough images in a folder\n",
    "for img_name in images:\n",
    "\n",
    "    img_path = os.path.join(PATH,img_name)\n",
    "    print(\"      %s      \"%img_path, end='\\r')\n",
    "    img = Image.open(img_path) \n",
    "\n",
    "    rotate_img = img.rotate(45, fillcolor = 'white')\n",
    "    rotate_img.save(os.path.join(SAVE_PATH, img_name))\n",
    "\n",
    "    ## Since X's are already rotated, there's no need to rotate them additionaly\n",
    "    ## into plus signs more than once (45 degrees)\n",
    "\n",
    "print(\"\\nDone with '+'\")\n",
    "####################################################################### "
   ]
  },
  {
   "cell_type": "code",
   "execution_count": 8,
   "metadata": {},
   "outputs": [
    {
     "name": "stdout",
     "output_type": "stream",
     "text": [
      "      dataset/train/1\\99996.jpg       \n",
      "Done with '-'\n"
     ]
    }
   ],
   "source": [
    "#######################################################################\n",
    "############ TURN '1' INTO AS MANY '-' SIGNS AS POSSIBLE ##############\n",
    "#######################################################################\n",
    "\n",
    "PATH = \"dataset/train/1\"\n",
    "SAVE_PATH = \"dataset/train/minus\"\n",
    "\n",
    "os.makedirs(SAVE_PATH)\n",
    "\n",
    "images = os.listdir(PATH)\n",
    "\n",
    "# Create structure element for extracting horizontal lines through morphology operations\n",
    "horizontalStructure = cv2.getStructuringElement(cv2.MORPH_RECT, (3, 1))\n",
    "\n",
    "# Iterate trough images in a folder\n",
    "for img_name in images:\n",
    "\n",
    "    img_path = os.path.join(PATH,img_name)\n",
    "    print(\"      %s      \"%img_path, end='\\r')\n",
    "    img = cv2.imread(img_path)\n",
    "\n",
    "    img = cv2.rotate(img,cv2.ROTATE_90_CLOCKWISE)\n",
    "    \n",
    "    # Apply morphology operations\n",
    "    img = cv2.dilate(img, horizontalStructure)\n",
    "    img = cv2.erode(img, horizontalStructure)\n",
    "\n",
    "    cv2.imwrite(os.path.join(SAVE_PATH,img_name),img)\n",
    "\n",
    "    img = cv2.rotate(img, cv2.ROTATE_180)\n",
    "    cv2.imwrite(os.path.join(SAVE_PATH, '1_'+img_name),img)\n",
    "\n",
    "\n",
    "print(\"\\nDone with '-'\")\n",
    "\n",
    "\n",
    "####################################################################### "
   ]
  },
  {
   "cell_type": "code",
   "execution_count": 10,
   "metadata": {},
   "outputs": [
    {
     "name": "stdout",
     "output_type": "stream",
     "text": [
      "      dataset/test/minus\\9959.jpg         \n",
      "Done with 'div'\n"
     ]
    }
   ],
   "source": [
    "#######################################################################\n",
    "############ TURN '-' INTO AS MANY '/' SIGNS AS POSSIBLE ##############\n",
    "#######################################################################\n",
    "\n",
    "PATH = \"dataset/train/minus\"\n",
    "SAVE_PATH = \"dataset/train/div\"\n",
    "\n",
    "os.makedirs(SAVE_PATH)\n",
    "\n",
    "images = os.listdir(PATH)\n",
    "\n",
    "# Iterate trough images in a folder\n",
    "for img_name in images:\n",
    "\n",
    "    img_path = os.path.join(PATH,img_name)\n",
    "    print(\"      %s      \"%img_path, end='\\r')\n",
    "    img = Image.open(img_path) \n",
    "\n",
    "    rotate_img = img.rotate(60, fillcolor = 'white')\n",
    "    rotate_img.save(os.path.join(SAVE_PATH, img_name))\n",
    "\n",
    "\n",
    "print(\"\\nDone with 'div'\")\n",
    "\n",
    "\n",
    "####################################################################### "
   ]
  },
  {
   "cell_type": "code",
   "execution_count": 22,
   "metadata": {},
   "outputs": [
    {
     "name": "stdout",
     "output_type": "stream",
     "text": [
      "\n",
      "Done with brackets\n"
     ]
    }
   ],
   "source": [
    "#######################################################################\n",
    "######## TURN '0' INTO AS MANY '(' and ')' SIGNS AS POSSIBLE ##########\n",
    "#######################################################################\n",
    "\n",
    "PATH = \"dataset/train/0\"\n",
    "SAVE_PATH_LEFT = \"dataset/train/(\"\n",
    "SAVE_PATH_RIGHT = \"dataset/train/)\"\n",
    "WIDTH = 28\n",
    "\n",
    "os.makedirs(SAVE_PATH_LEFT)\n",
    "os.makedirs(SAVE_PATH_RIGHT)\n",
    "\n",
    "images = os.listdir(PATH)\n",
    "\n",
    "# Iterate trough images in a folder\n",
    "for img_name in images:\n",
    "\n",
    "    img_path = os.path.join(PATH,img_name)\n",
    "    img = cv2.imread(img_path)\n",
    "\n",
    "    right = img.copy()    \n",
    "    right[:,:int(WIDTH/2),:] = 255\n",
    "    cv2.imwrite(os.path.join(SAVE_PATH_RIGHT, img_name), right)\n",
    "\n",
    "    left = img.copy()\n",
    "    left[:,int(WIDTH/2):,:]  = 255\n",
    "    cv2.imwrite(os.path.join(SAVE_PATH_LEFT, img_name), left)\n",
    "\n",
    "\n",
    "print(\"\\nDone with brackets\")\n",
    "\n",
    "\n",
    "####################################################################### "
   ]
  },
  {
   "cell_type": "code",
   "execution_count": 24,
   "metadata": {},
   "outputs": [
    {
     "name": "stdout",
     "output_type": "stream",
     "text": [
      "\n",
      "Done with brackets\n"
     ]
    }
   ],
   "source": [
    "## Brackets worked out terribly. So i manually sifted trough the '(' folder, and deleted the ')' one\n",
    "## I'll rotate the '(' by 180 to fill the folder, and then flip horizontaly to fill the ')' folder\n",
    "\n",
    "SAVE_PATH_LEFT = \"dataset/test/(\"\n",
    "SAVE_PATH_RIGHT = \"dataset/test/)\"\n",
    "\n",
    "os.makedirs(SAVE_PATH_RIGHT)\n",
    "\n",
    "images = os.listdir(SAVE_PATH_LEFT)\n",
    "\n",
    "# Iterate trough images in a folder\n",
    "for img_name in images:\n",
    "\n",
    "    img_path = os.path.join(SAVE_PATH_LEFT,img_name)\n",
    "    img = cv2.imread(img_path)\n",
    "\n",
    "    right = cv2.flip(img,0)\n",
    "    cv2.imwrite(os.path.join(SAVE_PATH_RIGHT, img_name), right)\n",
    "\n",
    "    img = cv2.flip(img,1)\n",
    "    cv2.imwrite(os.path.join(SAVE_PATH_LEFT, \"1_\"+img_name), img)\n",
    "\n",
    "    right = cv2.flip(img,0)\n",
    "    cv2.imwrite(os.path.join(SAVE_PATH_RIGHT, \"1_\"+img_name), right)\n",
    "\n",
    "\n",
    "print(\"\\nDone with brackets\")"
   ]
  },
  {
   "cell_type": "code",
   "execution_count": 5,
   "metadata": {},
   "outputs": [],
   "source": [
    "## Brackets are simply too much of a hastle for now\n",
    "\n",
    "\n"
   ]
  },
  {
   "cell_type": "code",
   "execution_count": null,
   "metadata": {},
   "outputs": [],
   "source": [
    "#######################################################################\n",
    "############### THICKEN BRACKETS FROM ANOTHER DATASET #################\n",
    "#######################################################################\n",
    "\n",
    "PATH = \"../extracted_images/)\"\n",
    "SAVE_PATH = \"../extracted_images/)_thick\"\n",
    "\n",
    "os.makedirs(SAVE_PATH)\n",
    "\n",
    "images = os.listdir(PATH)\n",
    "\n",
    "\n",
    "\n",
    "# Iterate trough images in a folder\n",
    "for img_name in images:\n",
    "\n",
    "    img_path = os.path.join(PATH,img_name)\n",
    "    print(\"      %s      \"%img_path, end='\\r')\n",
    "    img = cv2.imread(img_path)\n",
    "    \n",
    "    # Apply morphology operations\n",
    "    img = cv2.erode(img, np.ones(5))\n",
    "\n",
    "    cv2.imwrite(os.path.join(SAVE_PATH,img_name),img)\n",
    "\n",
    "\n",
    "\n",
    "print(\"\\nDone with '('\")\n"
   ]
  },
  {
   "cell_type": "code",
   "execution_count": 3,
   "metadata": {},
   "outputs": [
    {
     "name": "stdout",
     "output_type": "stream",
     "text": [
      "      dataset_uniform/train/(\\exp99996.jpg       \n",
      "Done with ')'\n"
     ]
    }
   ],
   "source": [
    "#######################################################################\n",
    "###################### POPULATE BRACKETS FOLDERS ######################\n",
    "#######################################################################\n",
    "\n",
    "PATH = \"dataset_uniform/train/(\"\n",
    "SAVE_PATH = \"dataset_uniform/train/)\"\n",
    "\n",
    "images = os.listdir(PATH)\n",
    "\n",
    "os.makedirs(SAVE_PATH)\n",
    "\n",
    "# Iterate trough images in a folder\n",
    "for img_name in images:\n",
    "\n",
    "    img_path = os.path.join(PATH,img_name)\n",
    "    print(\"      %s      \"%img_path, end='\\r')\n",
    "    img = cv2.imread(img_path)\n",
    "\n",
    "    img = cv2.flip(img,1)\n",
    "\n",
    "    cv2.imwrite(os.path.join(SAVE_PATH,img_name),img)\n",
    "\n",
    "\n",
    "\n",
    "print(\"\\nDone with ')'\")\n"
   ]
  },
  {
   "cell_type": "code",
   "execution_count": null,
   "metadata": {},
   "outputs": [],
   "source": []
  }
 ],
 "metadata": {
  "interpreter": {
   "hash": "0cf548ed9826f64029990f4fd55640bc325f6fd1ab4ce339d72287d848a2f65a"
  },
  "kernelspec": {
   "display_name": "Python 3.8.12 64-bit ('photomath': conda)",
   "language": "python",
   "name": "python3"
  },
  "language_info": {
   "codemirror_mode": {
    "name": "ipython",
    "version": 3
   },
   "file_extension": ".py",
   "mimetype": "text/x-python",
   "name": "python",
   "nbconvert_exporter": "python",
   "pygments_lexer": "ipython3",
   "version": "3.8.12"
  },
  "orig_nbformat": 4
 },
 "nbformat": 4,
 "nbformat_minor": 2
}
