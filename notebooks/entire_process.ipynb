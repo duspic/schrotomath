{
 "cells": [
  {
   "cell_type": "code",
   "execution_count": 1,
   "metadata": {},
   "outputs": [],
   "source": [
    "#########################################################################################################\n",
    "############# IN THIS NOTEBOOK, A FULL PROCESS EXAMPLE IS MADE TO DEMNOSTRATE THE STEPS #################\n",
    "#########################################################################################################"
   ]
  },
  {
   "cell_type": "code",
   "execution_count": 2,
   "metadata": {},
   "outputs": [],
   "source": [
    "import tensorflow as tf\n",
    "import numpy as np\n",
    "import solver\n",
    "import utils\n",
    "import cv2\n",
    "\n",
    "IMG_PATH = 'example.png'\n",
    "\n",
    "# Load saved model\n",
    "model = tf.keras.models.load_model(\"../app/\"+utils.MODEL_PATH)"
   ]
  },
  {
   "cell_type": "code",
   "execution_count": 3,
   "metadata": {},
   "outputs": [],
   "source": [
    "\n",
    "#####################################################  DETECTION  ####################################################\n",
    "\n",
    "# Prepare image for character detection\n",
    "image = cv2.imread(IMG_PATH)\n",
    "thresh = utils.preproc(image)\n",
    "cnts = utils.findContours(thresh)\n",
    "\n",
    "\n",
    "chars = {}\n",
    "for c in cnts:\n",
    "\n",
    "    # Remove minor distractions by setting a minimal area size\n",
    "    if cv2.contourArea(c) > 75:\n",
    "\n",
    "        # Extract ROI and starting position on x axis\n",
    "        roi,x = utils.extractChar(thresh,c,position=True)\n",
    "        chars[x] = utils.scaleAndPad(roi)\n",
    "\n",
    "# Sort by keys (starting positions on the x axis) to read the characters left to right\n",
    "sorted_keys = sorted(chars)"
   ]
  },
  {
   "cell_type": "code",
   "execution_count": 4,
   "metadata": {},
   "outputs": [
    {
     "name": "stdout",
     "output_type": "stream",
     "text": [
      "predicted classes: ['2', 'minus', '5']\n",
      "probabilities: [1.0, 0.99999964, 0.9999683]\n"
     ]
    }
   ],
   "source": [
    "\n",
    "#####################################################  RECOGNITION  ##################################################\n",
    "\n",
    "equation = []\n",
    "probabilities = []\n",
    "for key in sorted_keys:\n",
    "\n",
    "    char = chars[key]\n",
    "    # Model expects a batch of images, (batch_size, img_width, img_height, img_channels)\n",
    "    # Since this is a single image, batch_size = 1, it's square so img_width = img_height and it's B&W so img_channels = 1)\n",
    "    char = char.reshape(1,utils.IMG_SIZE,utils.IMG_SIZE,1)\n",
    "    # Get the most probable prediction from the model\n",
    "    prediction = model.predict(char)\n",
    "    class_no = np.argmax(prediction)\n",
    "\n",
    "    # Check for probability. If it isn't high enough, discard the prediction\n",
    "    probability = prediction[:,class_no][0]\n",
    "    if probability < utils.PROB_TH:\n",
    "        continue\n",
    "    probabilities.append(probability)\n",
    "\n",
    "    # Decode the prediction into class name\n",
    "    char = utils.CLASS_NAMES[class_no]\n",
    "    equation.append(char)\n",
    "\n",
    "\n",
    "print(\"predicted classes:\",equation)\n",
    "print(\"probabilities:\",probabilities)"
   ]
  },
  {
   "cell_type": "code",
   "execution_count": 5,
   "metadata": {},
   "outputs": [
    {
     "name": "stdout",
     "output_type": "stream",
     "text": [
      "Equation: 2-5\n",
      "Chunked into elements: ['2', '-', '5']\n",
      "Postfix notation: ['2', '5', '-']\n",
      "Solution: -3\n"
     ]
    }
   ],
   "source": [
    "\n",
    "#####################################################  PARSING AND SOLVING  ###########################################\n",
    "eq = solver.predictionsToEquation(equation)\n",
    "print(\"Equation:\",solver.preparePrint(eq))\n",
    "\n",
    "eq_unary = solver.unaryMinuses(eq)\n",
    "print(\"Chunked into elements:\",eq_unary)\n",
    "\n",
    "postfix = solver.shuntingYard(eq_unary)\n",
    "print(\"Postfix notation:\",postfix)\n",
    "\n",
    "solution = solver.solvePostfix(postfix)\n",
    "print(\"Solution:\",solver.preparePrint(solution))\n"
   ]
  },
  {
   "cell_type": "code",
   "execution_count": null,
   "metadata": {},
   "outputs": [],
   "source": []
  }
 ],
 "metadata": {
  "interpreter": {
   "hash": "0cf548ed9826f64029990f4fd55640bc325f6fd1ab4ce339d72287d848a2f65a"
  },
  "kernelspec": {
   "display_name": "Python 3.8.12 64-bit ('photomath': conda)",
   "language": "python",
   "name": "python3"
  },
  "language_info": {
   "codemirror_mode": {
    "name": "ipython",
    "version": 3
   },
   "file_extension": ".py",
   "mimetype": "text/x-python",
   "name": "python",
   "nbconvert_exporter": "python",
   "pygments_lexer": "ipython3",
   "version": "3.8.12"
  },
  "orig_nbformat": 4
 },
 "nbformat": 4,
 "nbformat_minor": 2
}
