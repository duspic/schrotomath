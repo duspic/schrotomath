{
 "cells": [
  {
   "cell_type": "code",
   "execution_count": 1,
   "metadata": {},
   "outputs": [],
   "source": [
    "# This code was used to make a uniform dataset\n",
    "# The problem was with characters being all over the image\n",
    "# Sometimes big sometimes small, sometimes left sometimes right\n",
    "\n",
    "# That would be alright, but the detector doesn't work that way\n",
    "# It detects contours and crops by them\n",
    "# So cropped detected chars are spanning troughout the image\n",
    "\n",
    "# To make the dataset more relevant to the detector, I've made\n",
    "# the dataset B&W and cleaned it up a bit.\n",
    "# After that, I've used the same detector that will later be used for predictions,\n",
    "# to crop images around the characters, and pad them with white pixels\n",
    "\n",
    "\n"
   ]
  },
  {
   "cell_type": "code",
   "execution_count": 17,
   "metadata": {},
   "outputs": [
    {
     "name": "stdout",
     "output_type": "stream",
     "text": [
      "dataset/test\\plus\\9972.jpg                \r"
     ]
    }
   ],
   "source": [
    "import os\n",
    "import cv2 \n",
    "import numpy as np\n",
    "import utils\n",
    "\n",
    "PATH = \"dataset/test\"\n",
    "SAVE_PATH = \"dataset_uniform/test\"\n",
    "\n",
    "os.makedirs(SAVE_PATH)\n",
    "\n",
    "\n",
    "# Iterate trough class folders\n",
    "for dir in os.listdir(PATH):\n",
    "    images = os.listdir(os.path.join(PATH,dir))\n",
    "    os.mkdir(os.path.join(SAVE_PATH,dir))\n",
    "\n",
    "    # Iterate trough images in a folder\n",
    "    for img_name in images:\n",
    "        img_path = os.path.join(PATH, dir ,img_name)\n",
    "\n",
    "        img = cv2.imread(img_path)\n",
    "        print(\"%s            \"%img_path, end='\\r')\n",
    "\n",
    "\n",
    "        # Make sure all chars are uniformly positioned on the image\n",
    "        proc = utils.preproc_light(img)\n",
    "        cnts = utils.findContours(proc)\n",
    "\n",
    "        for c in cnts:\n",
    "            if cv2.contourArea(c) > 25:\n",
    "                char = utils.extractChar(proc,c)\n",
    "                final = utils.scaleAndPad(char)\n",
    "                #cv2.imshow(\"after\",final)\n",
    "                #cv2.waitKey()\n",
    "                #cv2.destroyAllWindows()\n",
    "                new_path = os.path.join(SAVE_PATH,dir,img_name)\n",
    "                cv2.imwrite(new_path,final)\n",
    "        "
   ]
  },
  {
   "cell_type": "code",
   "execution_count": null,
   "metadata": {},
   "outputs": [],
   "source": []
  }
 ],
 "metadata": {
  "interpreter": {
   "hash": "0cf548ed9826f64029990f4fd55640bc325f6fd1ab4ce339d72287d848a2f65a"
  },
  "kernelspec": {
   "display_name": "Python 3.8.12 64-bit ('photomath': conda)",
   "language": "python",
   "name": "python3"
  },
  "language_info": {
   "codemirror_mode": {
    "name": "ipython",
    "version": 3
   },
   "file_extension": ".py",
   "mimetype": "text/x-python",
   "name": "python",
   "nbconvert_exporter": "python",
   "pygments_lexer": "ipython3",
   "version": "3.8.12"
  },
  "orig_nbformat": 4
 },
 "nbformat": 4,
 "nbformat_minor": 2
}
