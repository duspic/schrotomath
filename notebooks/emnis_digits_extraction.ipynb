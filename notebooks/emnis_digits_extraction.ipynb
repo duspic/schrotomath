{
 "cells": [
  {
   "cell_type": "code",
   "execution_count": 69,
   "metadata": {},
   "outputs": [],
   "source": [
    "## If something goes wrong, don't move files to recycle bin and delete them. It might take ages\n",
    "## Use these commands in cmd\n",
    "\n",
    "# del /f/s/q foldername > nul\n",
    "# /s/q foldername"
   ]
  },
  {
   "cell_type": "code",
   "execution_count": null,
   "metadata": {},
   "outputs": [],
   "source": [
    "!pip install idx2numpy"
   ]
  },
  {
   "cell_type": "code",
   "execution_count": 1,
   "metadata": {},
   "outputs": [],
   "source": [
    "import idx2numpy\n",
    "import numpy as np\n",
    "import cv2\n",
    "import os\n",
    "\n",
    "TRAIN_IMG_PATH = 'emnist-digits-train-images-idx3-ubyte'\n",
    "TRAIN_LABELS_PATH = 'emnist-digits-train-labels-idx1-ubyte'\n",
    "\n",
    "TEST_IMG_PATH = 'emnist-digits-test-images-idx3-ubyte'\n",
    "TEST_LABELS_PATH = 'emnist-digits-test-labels-idx1-ubyte'"
   ]
  },
  {
   "cell_type": "code",
   "execution_count": 2,
   "metadata": {},
   "outputs": [],
   "source": [
    "def create_folder(name, dir=''):\n",
    "\n",
    "    # Creates a single folder\n",
    "    # By default, does so in current directory\n",
    "    # But param \"dir\" provides optional placement\n",
    "\n",
    "\n",
    "\n",
    "    path = os.path.join(dir,name)\n",
    "    try:\n",
    "        os.makedirs(path)\n",
    "        print(\"Created folder %s\"%path)\n",
    "    except(FileExistsError):\n",
    "        print(\"Folder '%s' already exists\"%path)\n",
    "\n",
    "def create_class_folders(labels, dir=''): \n",
    "\n",
    "    # Creates a folder for each unique class found in labels\n",
    "    # By default, does so in current directory\n",
    "    # But param \"dir\" provides optional placement\n",
    "\n",
    "    # Example input:\n",
    "    # labels = ndarray([apple ball crow])\n",
    "    # dir = \"imgs\"\n",
    "    #\n",
    "    # Example result:\n",
    "    # Directories \"imgs/apple\", \"imgs/ball\", \"imgs/crow\"\n",
    "\n",
    "\n",
    "\n",
    "    dir = str(dir)\n",
    "    labels = np.array(labels,dtype=str)\n",
    "\n",
    "    for label in np.unique(labels):\n",
    "        create_folder(label,dir)\n",
    "\n",
    "def write_images_to_folders(images, labels, dir='', verbose=False):\n",
    "\n",
    "    # Writes image to a folder matching its label\n",
    "    # Param \"dir\" provides optional placement\n",
    "    # To track progress, set param \"verbose\" to True\n",
    "    # (But it will slow down the process...)\n",
    "\n",
    "\n",
    "\n",
    "    dir = str(dir)\n",
    "    labels = np.array(labels,dtype=str)\n",
    "\n",
    "    # Iterate trough images and according labels\n",
    "    for i in range(len(images)):\n",
    "        img = images[i]\n",
    "        label = labels[i]\n",
    "\n",
    "        # Rotate, flip and invert colors\n",
    "        img = process_img_emnist(img)\n",
    "\n",
    "        # Place each image in a folder according to its class\n",
    "        path = os.path.join(dir,label,str(i)+\".jpg\")\n",
    "        cv2.imwrite(path, img)\n",
    "\n",
    "        if verbose:\n",
    "            print(\"Succesfully written image %s                   \"%path, end='\\r')\n",
    "\n",
    "    print(\"Succesfully written ALL images\")\n",
    "\n",
    "def process_img_emnist(img):\n",
    "    # Rotates, flips and inverts colors of emnist image\n",
    "\n",
    "    img = cv2.rotate(img,cv2.ROTATE_90_CLOCKWISE)\n",
    "    img = cv2.flip(img,1)\n",
    "    img = 255-img\n",
    "    \n",
    "    return img"
   ]
  },
  {
   "cell_type": "code",
   "execution_count": 3,
   "metadata": {},
   "outputs": [
    {
     "name": "stdout",
     "output_type": "stream",
     "text": [
      "Created folder train\\0\n",
      "Created folder train\\1\n",
      "Created folder train\\2\n",
      "Created folder train\\3\n",
      "Created folder train\\4\n",
      "Created folder train\\5\n",
      "Created folder train\\6\n",
      "Created folder train\\7\n",
      "Created folder train\\8\n",
      "Created folder train\\9\n",
      "Succesfully written ALL images\n"
     ]
    }
   ],
   "source": [
    "# Load TRAIN images and labels, convert them to numpy arrays\n",
    "\n",
    "train_images = idx2numpy.convert_from_file(TRAIN_IMG_PATH)\n",
    "train_labels = idx2numpy.convert_from_file(TRAIN_LABELS_PATH)\n",
    "\n",
    "# Labels are int, but str is needed.\n",
    "train_labels = np.array(train_labels, dtype=str)\n",
    "\n",
    "# Create class folders and populate them with fresh images\n",
    "create_class_folders(train_labels, 'train')\n",
    "write_images_to_folders(train_images, train_labels, 'train')\n"
   ]
  },
  {
   "cell_type": "code",
   "execution_count": 4,
   "metadata": {},
   "outputs": [
    {
     "name": "stdout",
     "output_type": "stream",
     "text": [
      "Created folder test\\0\n",
      "Created folder test\\1\n",
      "Created folder test\\2\n",
      "Created folder test\\3\n",
      "Created folder test\\4\n",
      "Created folder test\\5\n",
      "Created folder test\\6\n",
      "Created folder test\\7\n",
      "Created folder test\\8\n",
      "Created folder test\\9\n",
      "Succesfully written ALL images\n"
     ]
    }
   ],
   "source": [
    "# Do the same with TEST images\n",
    "\n",
    "test_images = idx2numpy.convert_from_file(TEST_IMG_PATH)\n",
    "test_labels = idx2numpy.convert_from_file(TEST_LABELS_PATH)\n",
    "\n",
    "# Labels are int, but str is needed.\n",
    "test_labels = np.array(test_labels, dtype=str)\n",
    "\n",
    "# Create class folders and populate them with fresh images\n",
    "create_class_folders(test_labels, 'test')\n",
    "write_images_to_folders(test_images, test_labels, 'test')"
   ]
  },
  {
   "cell_type": "code",
   "execution_count": null,
   "metadata": {},
   "outputs": [],
   "source": [
    "########################################################################################################################\n",
    "######## ALL IMAGES ARE WRITTEN, AND NOW IT'S TIME TO MANUALLY PICK AND CHOOSE WHAT IS NECESSARY FOR THE TASK ##########\n",
    "########################################################################################################################"
   ]
  },
  {
   "cell_type": "code",
   "execution_count": 5,
   "metadata": {},
   "outputs": [
    {
     "data": {
      "image/png": "[encoded data removed]",
      "text/plain": [
       "<Figure size 1440x1440 with 10 Axes>"
      ]
     },
     "metadata": {
      "needs_background": "light"
     },
     "output_type": "display_data"
    }
   ],
   "source": [
    "import matplotlib.pyplot as plt\n",
    "\n",
    "def get_class_samples(dir=''):\n",
    "    # Returns an array consisting of single samples and according label\n",
    "    # Taken from each subfolder in the parent \"dir\"\n",
    "\n",
    "    images = []\n",
    "    labels = []\n",
    "\n",
    "    folders = os.listdir(dir)\n",
    "    for folder in folders:\n",
    "        path = os.path.join(dir,folder)\n",
    "\n",
    "        # To avoid listing all files in subfolders with listdir\n",
    "        # os.walk function can be used\n",
    "        walk = os.walk(path)\n",
    "        filename = next(walk)[2][0]\n",
    "        image_path = os.path.join(dir,folder,filename)\n",
    "        \n",
    "        images.append(cv2.imread(image_path))\n",
    "        labels.append(folder)\n",
    "\n",
    "    return images, labels\n",
    "\n",
    "\n",
    "\n",
    "\n",
    "# Visualize an example from each category for a simple inspection\n",
    "sample_imgs, sample_labels = get_class_samples('test')\n",
    "\n",
    "plt.figure(figsize=(20, 20))\n",
    "grid_size = int(len(sample_labels)**0.5)+1\n",
    "for i in range(len(sample_labels)):\n",
    "    ax = plt.subplot(grid_size, grid_size, i+1)\n",
    "    plt.imshow(sample_imgs[i].astype(\"uint8\"),cmap='gray')\n",
    "    plt.title(sample_labels[i])\n",
    "    plt.axis(\"off\")"
   ]
  }
 ],
 "metadata": {
  "interpreter": {
   "hash": "0cf548ed9826f64029990f4fd55640bc325f6fd1ab4ce339d72287d848a2f65a"
  },
  "kernelspec": {
   "display_name": "Python 3.8.12 64-bit ('photomath': conda)",
   "language": "python",
   "name": "python3"
  },
  "language_info": {
   "codemirror_mode": {
    "name": "ipython",
    "version": 3
   },
   "file_extension": ".py",
   "mimetype": "text/x-python",
   "name": "python",
   "nbconvert_exporter": "python",
   "pygments_lexer": "ipython3",
   "version": "3.8.12"
  },
  "orig_nbformat": 4
 },
 "nbformat": 4,
 "nbformat_minor": 2
}
